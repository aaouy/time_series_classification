{
 "cells": [],
 "metadata": {
  "kernelspec": {
   "display_name": "engsci712",
   "language": "python",
   "name": "engsci712"
  },
  "language_info": {
   "name": "python",
   "version": "3.11.11"
  }
 },
 "nbformat": 4,
 "nbformat_minor": 5
}
